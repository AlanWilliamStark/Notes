{
 "cells": [
  {
   "cell_type": "markdown",
   "id": "788c2d51",
   "metadata": {},
   "source": [
    "1. Conduct time series analysis. Plot the time series. Calculate the autocorrelation coefficients and build ACF and PACF and their correlograms for the original series. How do you think if the considered time series is stationary?\n",
    "2. Determine an order of difference of the time series. To do this, build correlograms for the original series and the series in the first and second differences. Check the difference for the presence of a unit root using the Advanced Dickey-Fuller test (ADF-test). What is the order d of stationarity? \n",
    "3. Do the difference series have any significant coefficients of autocorrelation and partial autocorrelation? Determine the order of the model ARIMA (p, d, q) taking into account the behavior of ACF and PACF.\n",
    "4. Construct ARIMA (p, d, q)-model of the order selected in item 3.\n",
    "5. Explore the residuals of the constructed model. Are there any elements in the model that are not taken into account? If the residuals series has autocorrelation for low order members (no more than 3), then try to fix the problem by adding autoregressive elements or moving average ones into the model.\n",
    "6. Does the time series contain a seasonal component? If it does, what is a lag of the seasonal cycle? Take the corresponding seasonal difference. \n",
    "7. Add to the constructed model seasonal elements (P, D, Q).\n",
    "8. Explore the residuals of the constructed model SARIMA(p,d,q)(P,D,Q)s, where s is the length of the seasonal cycle. In case the residuals are not the \"white\" noise, please, modify the model.\n",
    "9. Construct a histogram of residuals for the final model. Perform the test for normality of residuals (for example, the Shapiro-Wilk test or the Kolmogorov-Smirnov test).\n",
    "10. Make sure that the residuals series is the \"white\" noise. Check the residuals for stationarity using the Ljung-Box Q-test. \n",
    "11. Using the final model perform a forecast for 18 periods forward. Draw graphs for initial, modeling, and predictive values and 95% confidence interval.\n",
    "12. Using the method of exhaustive search of the model parameters, form a set of SARIMA models with different parameters and choose the \"best\" model based on AIC and SBC criteria. Compare this model with the one you built on previous steps by your own intuition. Make a forecast forward for 18 time periods. Compare two forecasts.\n"
   ]
  },
  {
   "cell_type": "markdown",
   "id": "44e2bc7f",
   "metadata": {},
   "source": [
    "1. 进行时间序列分析。绘制时间序列。计算自相关系数并为原始序列构建 ACF 和 PACF 及其相关图。您如何看待所考虑的时间序列是否平稳？\n",
    "2. 确定时间序列的差序。为此，请为原始系列以及一阶和二阶差异中的系列构建相关图。使用高级 Dickey-Fuller 检验（ADF 检验）检查是否存在单位根的差异。平稳的阶数 d 是多少？\n",
    "3. 差异序列是否存在显着的自相关和偏自相关系数？考虑 ACF 和 PACF 的行为，确定模型 ARIMA (p, d, q) 的阶数。\n",
    "4. 构建第 3 项中选择的订单的 ARIMA (p, d, q)-模型。\n",
    "5. 探索构建模型的残差。模型中是否有任何未考虑的元素？如果残差序列对低阶成员（不超过 3 个）具有自相关性，则尝试通过在模型中添加自回归元素或移动平均元素来解决问题。\n",
    "6. 时间序列是否包含季节性成分？如果是，那么季节性周期的滞后是多少？取相应的季节差。\n",
    "7. 向构建的模型添加季节性元素（P、D、Q）。\n",
    "8. 探索构建的模型 SARIMA(p,d,q)(P,D,Q)s 的残差，其中 s 是季节周期的长度。如果残差不是“白”噪声，请修改模型。\n",
    "9. 为最终模型构建残差直方图。执行残差正态性检验（例如，Shapiro-Wilk 检验或 Kolmogorov-Smirnov 检验）。\n",
    "10. 确保残差系列是“白”噪声。使用 Ljung-Box Q 检验检查残差的平稳性。\n",
    "11. 使用最终模型对未来 18 个周期进行预测。绘制初始值、建模值和预测值以及 95% 置信区间的图表。\n",
    "12. 采用模型参数穷举搜索的方法，形成一组不同参数的SARIMA模型，并根据AIC和SBC准则选择“最佳”模型。将此模型与您根据自己的直觉在先前步骤中构建的模型进行比较。对 18 个时间段进行预测。比较两个预测。"
   ]
  },
  {
   "cell_type": "markdown",
   "id": "251c0828",
   "metadata": {},
   "source": [
    "# Step 1：Conduct time series analysis. Plot the time series. Calculate the autocorrelation coefficients and build ACF and PACF and their correlograms for the original series. How do you think if the considered time series is stationary?"
   ]
  },
  {
   "cell_type": "markdown",
   "id": "375da07e",
   "metadata": {},
   "source": [
    "## The link of data https://data.stats.gov.cn/easyquery.htm?cn=C01\n",
    " This data is come from Tht Center of Statistic of China. It shows the Incomes of Fiance of Chinese Goverment."
   ]
  },
  {
   "cell_type": "code",
   "execution_count": 1,
   "id": "7e594fab",
   "metadata": {},
   "outputs": [],
   "source": [
    "import pandas as pd\n",
    "import numpy as np\n",
    "%matplotlib inline\n",
    "\n",
    "import matplotlib.pyplot as plt\n",
    "import seaborn as sns"
   ]
  },
  {
   "cell_type": "code",
   "execution_count": 2,
   "id": "036f6bbe",
   "metadata": {},
   "outputs": [],
   "source": [
    "data = pd.read_csv('FiancInco_CN.csv')"
   ]
  },
  {
   "cell_type": "code",
   "execution_count": 3,
   "id": "2b0b0b19",
   "metadata": {},
   "outputs": [
    {
     "data": {
      "text/html": [
       "<div>\n",
       "<style scoped>\n",
       "    .dataframe tbody tr th:only-of-type {\n",
       "        vertical-align: middle;\n",
       "    }\n",
       "\n",
       "    .dataframe tbody tr th {\n",
       "        vertical-align: top;\n",
       "    }\n",
       "\n",
       "    .dataframe thead th {\n",
       "        text-align: right;\n",
       "    }\n",
       "</style>\n",
       "<table border=\"1\" class=\"dataframe\">\n",
       "  <thead>\n",
       "    <tr style=\"text-align: right;\">\n",
       "      <th></th>\n",
       "      <th>Year</th>\n",
       "      <th>Incomes</th>\n",
       "      <th>Rates(%)</th>\n",
       "    </tr>\n",
       "  </thead>\n",
       "  <tbody>\n",
       "    <tr>\n",
       "      <th>0</th>\n",
       "      <td>2018/12/1</td>\n",
       "      <td>183352.0</td>\n",
       "      <td>6.2</td>\n",
       "    </tr>\n",
       "    <tr>\n",
       "      <th>1</th>\n",
       "      <td>2019/1/1</td>\n",
       "      <td>NaN</td>\n",
       "      <td>NaN</td>\n",
       "    </tr>\n",
       "    <tr>\n",
       "      <th>2</th>\n",
       "      <td>2019/2/1</td>\n",
       "      <td>39104.0</td>\n",
       "      <td>7.0</td>\n",
       "    </tr>\n",
       "    <tr>\n",
       "      <th>3</th>\n",
       "      <td>2019/3/1</td>\n",
       "      <td>53656.0</td>\n",
       "      <td>6.2</td>\n",
       "    </tr>\n",
       "    <tr>\n",
       "      <th>4</th>\n",
       "      <td>2019/4/1</td>\n",
       "      <td>72651.0</td>\n",
       "      <td>5.3</td>\n",
       "    </tr>\n",
       "  </tbody>\n",
       "</table>\n",
       "</div>"
      ],
      "text/plain": [
       "        Year   Incomes  Rates(%)\n",
       "0  2018/12/1  183352.0       6.2\n",
       "1   2019/1/1       NaN       NaN\n",
       "2   2019/2/1   39104.0       7.0\n",
       "3   2019/3/1   53656.0       6.2\n",
       "4   2019/4/1   72651.0       5.3"
      ]
     },
     "execution_count": 3,
     "metadata": {},
     "output_type": "execute_result"
    }
   ],
   "source": [
    "data.head()"
   ]
  },
  {
   "cell_type": "code",
   "execution_count": 4,
   "id": "01aeae07",
   "metadata": {},
   "outputs": [],
   "source": [
    "df = pd.DataFrame(data,index = np.array([i for i in range(36)]))"
   ]
  },
  {
   "cell_type": "code",
   "execution_count": 5,
   "id": "02ef501c",
   "metadata": {},
   "outputs": [
    {
     "data": {
      "text/html": [
       "<div>\n",
       "<style scoped>\n",
       "    .dataframe tbody tr th:only-of-type {\n",
       "        vertical-align: middle;\n",
       "    }\n",
       "\n",
       "    .dataframe tbody tr th {\n",
       "        vertical-align: top;\n",
       "    }\n",
       "\n",
       "    .dataframe thead th {\n",
       "        text-align: right;\n",
       "    }\n",
       "</style>\n",
       "<table border=\"1\" class=\"dataframe\">\n",
       "  <thead>\n",
       "    <tr style=\"text-align: right;\">\n",
       "      <th></th>\n",
       "      <th>Year</th>\n",
       "      <th>Incomes</th>\n",
       "      <th>Rates(%)</th>\n",
       "    </tr>\n",
       "  </thead>\n",
       "  <tbody>\n",
       "    <tr>\n",
       "      <th>0</th>\n",
       "      <td>2018/12/1</td>\n",
       "      <td>183352.0</td>\n",
       "      <td>6.2</td>\n",
       "    </tr>\n",
       "    <tr>\n",
       "      <th>1</th>\n",
       "      <td>2019/1/1</td>\n",
       "      <td>NaN</td>\n",
       "      <td>NaN</td>\n",
       "    </tr>\n",
       "    <tr>\n",
       "      <th>2</th>\n",
       "      <td>2019/2/1</td>\n",
       "      <td>39104.0</td>\n",
       "      <td>7.0</td>\n",
       "    </tr>\n",
       "    <tr>\n",
       "      <th>3</th>\n",
       "      <td>2019/3/1</td>\n",
       "      <td>53656.0</td>\n",
       "      <td>6.2</td>\n",
       "    </tr>\n",
       "    <tr>\n",
       "      <th>4</th>\n",
       "      <td>2019/4/1</td>\n",
       "      <td>72651.0</td>\n",
       "      <td>5.3</td>\n",
       "    </tr>\n",
       "    <tr>\n",
       "      <th>5</th>\n",
       "      <td>2019/5/1</td>\n",
       "      <td>89919.0</td>\n",
       "      <td>3.8</td>\n",
       "    </tr>\n",
       "    <tr>\n",
       "      <th>6</th>\n",
       "      <td>2019/6/1</td>\n",
       "      <td>107846.0</td>\n",
       "      <td>3.4</td>\n",
       "    </tr>\n",
       "    <tr>\n",
       "      <th>7</th>\n",
       "      <td>2019/7/1</td>\n",
       "      <td>125623.0</td>\n",
       "      <td>3.1</td>\n",
       "    </tr>\n",
       "    <tr>\n",
       "      <th>8</th>\n",
       "      <td>2019/8/1</td>\n",
       "      <td>137061.0</td>\n",
       "      <td>3.2</td>\n",
       "    </tr>\n",
       "    <tr>\n",
       "      <th>9</th>\n",
       "      <td>2019/9/1</td>\n",
       "      <td>150678.0</td>\n",
       "      <td>3.3</td>\n",
       "    </tr>\n",
       "    <tr>\n",
       "      <th>10</th>\n",
       "      <td>2019/10/1</td>\n",
       "      <td>167704.0</td>\n",
       "      <td>3.8</td>\n",
       "    </tr>\n",
       "    <tr>\n",
       "      <th>11</th>\n",
       "      <td>2019/11/1</td>\n",
       "      <td>178967.0</td>\n",
       "      <td>3.8</td>\n",
       "    </tr>\n",
       "    <tr>\n",
       "      <th>12</th>\n",
       "      <td>2019/12/1</td>\n",
       "      <td>190382.0</td>\n",
       "      <td>3.8</td>\n",
       "    </tr>\n",
       "    <tr>\n",
       "      <th>13</th>\n",
       "      <td>2020/1/1</td>\n",
       "      <td>NaN</td>\n",
       "      <td>NaN</td>\n",
       "    </tr>\n",
       "    <tr>\n",
       "      <th>14</th>\n",
       "      <td>2020/2/1</td>\n",
       "      <td>35232.0</td>\n",
       "      <td>-9.9</td>\n",
       "    </tr>\n",
       "    <tr>\n",
       "      <th>15</th>\n",
       "      <td>2020/3/1</td>\n",
       "      <td>45984.0</td>\n",
       "      <td>-14.3</td>\n",
       "    </tr>\n",
       "    <tr>\n",
       "      <th>16</th>\n",
       "      <td>2020/4/1</td>\n",
       "      <td>62132.9</td>\n",
       "      <td>-14.5</td>\n",
       "    </tr>\n",
       "    <tr>\n",
       "      <th>17</th>\n",
       "      <td>2020/5/1</td>\n",
       "      <td>77672.0</td>\n",
       "      <td>-13.6</td>\n",
       "    </tr>\n",
       "    <tr>\n",
       "      <th>18</th>\n",
       "      <td>2020/6/1</td>\n",
       "      <td>96176.0</td>\n",
       "      <td>-10.8</td>\n",
       "    </tr>\n",
       "    <tr>\n",
       "      <th>19</th>\n",
       "      <td>2020/7/1</td>\n",
       "      <td>114725.0</td>\n",
       "      <td>-8.7</td>\n",
       "    </tr>\n",
       "    <tr>\n",
       "      <th>20</th>\n",
       "      <td>2020/8/1</td>\n",
       "      <td>126768.0</td>\n",
       "      <td>-7.5</td>\n",
       "    </tr>\n",
       "    <tr>\n",
       "      <th>21</th>\n",
       "      <td>2020/9/1</td>\n",
       "      <td>141002.0</td>\n",
       "      <td>-6.4</td>\n",
       "    </tr>\n",
       "    <tr>\n",
       "      <th>22</th>\n",
       "      <td>2020/10/1</td>\n",
       "      <td>158533.0</td>\n",
       "      <td>-5.5</td>\n",
       "    </tr>\n",
       "    <tr>\n",
       "      <th>23</th>\n",
       "      <td>2020/11/1</td>\n",
       "      <td>169489.0</td>\n",
       "      <td>-5.3</td>\n",
       "    </tr>\n",
       "    <tr>\n",
       "      <th>24</th>\n",
       "      <td>2020/12/1</td>\n",
       "      <td>182895.0</td>\n",
       "      <td>-3.9</td>\n",
       "    </tr>\n",
       "    <tr>\n",
       "      <th>25</th>\n",
       "      <td>2021/1/1</td>\n",
       "      <td>NaN</td>\n",
       "      <td>NaN</td>\n",
       "    </tr>\n",
       "    <tr>\n",
       "      <th>26</th>\n",
       "      <td>2021/2/1</td>\n",
       "      <td>41805.4</td>\n",
       "      <td>18.7</td>\n",
       "    </tr>\n",
       "    <tr>\n",
       "      <th>27</th>\n",
       "      <td>2021/3/1</td>\n",
       "      <td>57115.0</td>\n",
       "      <td>24.2</td>\n",
       "    </tr>\n",
       "    <tr>\n",
       "      <th>28</th>\n",
       "      <td>2021/4/1</td>\n",
       "      <td>78008.0</td>\n",
       "      <td>25.5</td>\n",
       "    </tr>\n",
       "    <tr>\n",
       "      <th>29</th>\n",
       "      <td>2021/5/1</td>\n",
       "      <td>96454.0</td>\n",
       "      <td>24.2</td>\n",
       "    </tr>\n",
       "    <tr>\n",
       "      <th>30</th>\n",
       "      <td>2021/6/1</td>\n",
       "      <td>117116.0</td>\n",
       "      <td>21.8</td>\n",
       "    </tr>\n",
       "    <tr>\n",
       "      <th>31</th>\n",
       "      <td>2021/7/1</td>\n",
       "      <td>137716.0</td>\n",
       "      <td>20.0</td>\n",
       "    </tr>\n",
       "    <tr>\n",
       "      <th>32</th>\n",
       "      <td>2021/8/1</td>\n",
       "      <td>150088.0</td>\n",
       "      <td>18.4</td>\n",
       "    </tr>\n",
       "    <tr>\n",
       "      <th>33</th>\n",
       "      <td>2021/9/1</td>\n",
       "      <td>164020.0</td>\n",
       "      <td>16.3</td>\n",
       "    </tr>\n",
       "    <tr>\n",
       "      <th>34</th>\n",
       "      <td>2021/10/1</td>\n",
       "      <td>181526.0</td>\n",
       "      <td>14.5</td>\n",
       "    </tr>\n",
       "    <tr>\n",
       "      <th>35</th>\n",
       "      <td>2021/11/1</td>\n",
       "      <td>191252.0</td>\n",
       "      <td>12.8</td>\n",
       "    </tr>\n",
       "  </tbody>\n",
       "</table>\n",
       "</div>"
      ],
      "text/plain": [
       "         Year   Incomes  Rates(%)\n",
       "0   2018/12/1  183352.0       6.2\n",
       "1    2019/1/1       NaN       NaN\n",
       "2    2019/2/1   39104.0       7.0\n",
       "3    2019/3/1   53656.0       6.2\n",
       "4    2019/4/1   72651.0       5.3\n",
       "5    2019/5/1   89919.0       3.8\n",
       "6    2019/6/1  107846.0       3.4\n",
       "7    2019/7/1  125623.0       3.1\n",
       "8    2019/8/1  137061.0       3.2\n",
       "9    2019/9/1  150678.0       3.3\n",
       "10  2019/10/1  167704.0       3.8\n",
       "11  2019/11/1  178967.0       3.8\n",
       "12  2019/12/1  190382.0       3.8\n",
       "13   2020/1/1       NaN       NaN\n",
       "14   2020/2/1   35232.0      -9.9\n",
       "15   2020/3/1   45984.0     -14.3\n",
       "16   2020/4/1   62132.9     -14.5\n",
       "17   2020/5/1   77672.0     -13.6\n",
       "18   2020/6/1   96176.0     -10.8\n",
       "19   2020/7/1  114725.0      -8.7\n",
       "20   2020/8/1  126768.0      -7.5\n",
       "21   2020/9/1  141002.0      -6.4\n",
       "22  2020/10/1  158533.0      -5.5\n",
       "23  2020/11/1  169489.0      -5.3\n",
       "24  2020/12/1  182895.0      -3.9\n",
       "25   2021/1/1       NaN       NaN\n",
       "26   2021/2/1   41805.4      18.7\n",
       "27   2021/3/1   57115.0      24.2\n",
       "28   2021/4/1   78008.0      25.5\n",
       "29   2021/5/1   96454.0      24.2\n",
       "30   2021/6/1  117116.0      21.8\n",
       "31   2021/7/1  137716.0      20.0\n",
       "32   2021/8/1  150088.0      18.4\n",
       "33   2021/9/1  164020.0      16.3\n",
       "34  2021/10/1  181526.0      14.5\n",
       "35  2021/11/1  191252.0      12.8"
      ]
     },
     "execution_count": 5,
     "metadata": {},
     "output_type": "execute_result"
    }
   ],
   "source": [
    "df.head(37)"
   ]
  },
  {
   "cell_type": "code",
   "execution_count": 6,
   "id": "d10d6e75",
   "metadata": {},
   "outputs": [],
   "source": [
    "df['Incomes'].fillna(df['Incomes'].mean(),inplace = True)#用平均数替代空值"
   ]
  },
  {
   "cell_type": "code",
   "execution_count": 7,
   "id": "928156ee",
   "metadata": {},
   "outputs": [
    {
     "data": {
      "text/html": [
       "<div>\n",
       "<style scoped>\n",
       "    .dataframe tbody tr th:only-of-type {\n",
       "        vertical-align: middle;\n",
       "    }\n",
       "\n",
       "    .dataframe tbody tr th {\n",
       "        vertical-align: top;\n",
       "    }\n",
       "\n",
       "    .dataframe thead th {\n",
       "        text-align: right;\n",
       "    }\n",
       "</style>\n",
       "<table border=\"1\" class=\"dataframe\">\n",
       "  <thead>\n",
       "    <tr style=\"text-align: right;\">\n",
       "      <th></th>\n",
       "      <th>Year</th>\n",
       "      <th>Incomes</th>\n",
       "      <th>Rates(%)</th>\n",
       "    </tr>\n",
       "  </thead>\n",
       "  <tbody>\n",
       "    <tr>\n",
       "      <th>0</th>\n",
       "      <td>2018/12/1</td>\n",
       "      <td>183352.000000</td>\n",
       "      <td>6.2</td>\n",
       "    </tr>\n",
       "    <tr>\n",
       "      <th>1</th>\n",
       "      <td>2019/1/1</td>\n",
       "      <td>118868.251515</td>\n",
       "      <td>NaN</td>\n",
       "    </tr>\n",
       "    <tr>\n",
       "      <th>2</th>\n",
       "      <td>2019/2/1</td>\n",
       "      <td>39104.000000</td>\n",
       "      <td>7.0</td>\n",
       "    </tr>\n",
       "    <tr>\n",
       "      <th>3</th>\n",
       "      <td>2019/3/1</td>\n",
       "      <td>53656.000000</td>\n",
       "      <td>6.2</td>\n",
       "    </tr>\n",
       "    <tr>\n",
       "      <th>4</th>\n",
       "      <td>2019/4/1</td>\n",
       "      <td>72651.000000</td>\n",
       "      <td>5.3</td>\n",
       "    </tr>\n",
       "    <tr>\n",
       "      <th>5</th>\n",
       "      <td>2019/5/1</td>\n",
       "      <td>89919.000000</td>\n",
       "      <td>3.8</td>\n",
       "    </tr>\n",
       "    <tr>\n",
       "      <th>6</th>\n",
       "      <td>2019/6/1</td>\n",
       "      <td>107846.000000</td>\n",
       "      <td>3.4</td>\n",
       "    </tr>\n",
       "    <tr>\n",
       "      <th>7</th>\n",
       "      <td>2019/7/1</td>\n",
       "      <td>125623.000000</td>\n",
       "      <td>3.1</td>\n",
       "    </tr>\n",
       "    <tr>\n",
       "      <th>8</th>\n",
       "      <td>2019/8/1</td>\n",
       "      <td>137061.000000</td>\n",
       "      <td>3.2</td>\n",
       "    </tr>\n",
       "    <tr>\n",
       "      <th>9</th>\n",
       "      <td>2019/9/1</td>\n",
       "      <td>150678.000000</td>\n",
       "      <td>3.3</td>\n",
       "    </tr>\n",
       "    <tr>\n",
       "      <th>10</th>\n",
       "      <td>2019/10/1</td>\n",
       "      <td>167704.000000</td>\n",
       "      <td>3.8</td>\n",
       "    </tr>\n",
       "    <tr>\n",
       "      <th>11</th>\n",
       "      <td>2019/11/1</td>\n",
       "      <td>178967.000000</td>\n",
       "      <td>3.8</td>\n",
       "    </tr>\n",
       "    <tr>\n",
       "      <th>12</th>\n",
       "      <td>2019/12/1</td>\n",
       "      <td>190382.000000</td>\n",
       "      <td>3.8</td>\n",
       "    </tr>\n",
       "    <tr>\n",
       "      <th>13</th>\n",
       "      <td>2020/1/1</td>\n",
       "      <td>118868.251515</td>\n",
       "      <td>NaN</td>\n",
       "    </tr>\n",
       "    <tr>\n",
       "      <th>14</th>\n",
       "      <td>2020/2/1</td>\n",
       "      <td>35232.000000</td>\n",
       "      <td>-9.9</td>\n",
       "    </tr>\n",
       "    <tr>\n",
       "      <th>15</th>\n",
       "      <td>2020/3/1</td>\n",
       "      <td>45984.000000</td>\n",
       "      <td>-14.3</td>\n",
       "    </tr>\n",
       "    <tr>\n",
       "      <th>16</th>\n",
       "      <td>2020/4/1</td>\n",
       "      <td>62132.900000</td>\n",
       "      <td>-14.5</td>\n",
       "    </tr>\n",
       "    <tr>\n",
       "      <th>17</th>\n",
       "      <td>2020/5/1</td>\n",
       "      <td>77672.000000</td>\n",
       "      <td>-13.6</td>\n",
       "    </tr>\n",
       "    <tr>\n",
       "      <th>18</th>\n",
       "      <td>2020/6/1</td>\n",
       "      <td>96176.000000</td>\n",
       "      <td>-10.8</td>\n",
       "    </tr>\n",
       "    <tr>\n",
       "      <th>19</th>\n",
       "      <td>2020/7/1</td>\n",
       "      <td>114725.000000</td>\n",
       "      <td>-8.7</td>\n",
       "    </tr>\n",
       "    <tr>\n",
       "      <th>20</th>\n",
       "      <td>2020/8/1</td>\n",
       "      <td>126768.000000</td>\n",
       "      <td>-7.5</td>\n",
       "    </tr>\n",
       "    <tr>\n",
       "      <th>21</th>\n",
       "      <td>2020/9/1</td>\n",
       "      <td>141002.000000</td>\n",
       "      <td>-6.4</td>\n",
       "    </tr>\n",
       "    <tr>\n",
       "      <th>22</th>\n",
       "      <td>2020/10/1</td>\n",
       "      <td>158533.000000</td>\n",
       "      <td>-5.5</td>\n",
       "    </tr>\n",
       "    <tr>\n",
       "      <th>23</th>\n",
       "      <td>2020/11/1</td>\n",
       "      <td>169489.000000</td>\n",
       "      <td>-5.3</td>\n",
       "    </tr>\n",
       "    <tr>\n",
       "      <th>24</th>\n",
       "      <td>2020/12/1</td>\n",
       "      <td>182895.000000</td>\n",
       "      <td>-3.9</td>\n",
       "    </tr>\n",
       "    <tr>\n",
       "      <th>25</th>\n",
       "      <td>2021/1/1</td>\n",
       "      <td>118868.251515</td>\n",
       "      <td>NaN</td>\n",
       "    </tr>\n",
       "    <tr>\n",
       "      <th>26</th>\n",
       "      <td>2021/2/1</td>\n",
       "      <td>41805.400000</td>\n",
       "      <td>18.7</td>\n",
       "    </tr>\n",
       "    <tr>\n",
       "      <th>27</th>\n",
       "      <td>2021/3/1</td>\n",
       "      <td>57115.000000</td>\n",
       "      <td>24.2</td>\n",
       "    </tr>\n",
       "    <tr>\n",
       "      <th>28</th>\n",
       "      <td>2021/4/1</td>\n",
       "      <td>78008.000000</td>\n",
       "      <td>25.5</td>\n",
       "    </tr>\n",
       "    <tr>\n",
       "      <th>29</th>\n",
       "      <td>2021/5/1</td>\n",
       "      <td>96454.000000</td>\n",
       "      <td>24.2</td>\n",
       "    </tr>\n",
       "    <tr>\n",
       "      <th>30</th>\n",
       "      <td>2021/6/1</td>\n",
       "      <td>117116.000000</td>\n",
       "      <td>21.8</td>\n",
       "    </tr>\n",
       "    <tr>\n",
       "      <th>31</th>\n",
       "      <td>2021/7/1</td>\n",
       "      <td>137716.000000</td>\n",
       "      <td>20.0</td>\n",
       "    </tr>\n",
       "    <tr>\n",
       "      <th>32</th>\n",
       "      <td>2021/8/1</td>\n",
       "      <td>150088.000000</td>\n",
       "      <td>18.4</td>\n",
       "    </tr>\n",
       "    <tr>\n",
       "      <th>33</th>\n",
       "      <td>2021/9/1</td>\n",
       "      <td>164020.000000</td>\n",
       "      <td>16.3</td>\n",
       "    </tr>\n",
       "    <tr>\n",
       "      <th>34</th>\n",
       "      <td>2021/10/1</td>\n",
       "      <td>181526.000000</td>\n",
       "      <td>14.5</td>\n",
       "    </tr>\n",
       "    <tr>\n",
       "      <th>35</th>\n",
       "      <td>2021/11/1</td>\n",
       "      <td>191252.000000</td>\n",
       "      <td>12.8</td>\n",
       "    </tr>\n",
       "  </tbody>\n",
       "</table>\n",
       "</div>"
      ],
      "text/plain": [
       "         Year        Incomes  Rates(%)\n",
       "0   2018/12/1  183352.000000       6.2\n",
       "1    2019/1/1  118868.251515       NaN\n",
       "2    2019/2/1   39104.000000       7.0\n",
       "3    2019/3/1   53656.000000       6.2\n",
       "4    2019/4/1   72651.000000       5.3\n",
       "5    2019/5/1   89919.000000       3.8\n",
       "6    2019/6/1  107846.000000       3.4\n",
       "7    2019/7/1  125623.000000       3.1\n",
       "8    2019/8/1  137061.000000       3.2\n",
       "9    2019/9/1  150678.000000       3.3\n",
       "10  2019/10/1  167704.000000       3.8\n",
       "11  2019/11/1  178967.000000       3.8\n",
       "12  2019/12/1  190382.000000       3.8\n",
       "13   2020/1/1  118868.251515       NaN\n",
       "14   2020/2/1   35232.000000      -9.9\n",
       "15   2020/3/1   45984.000000     -14.3\n",
       "16   2020/4/1   62132.900000     -14.5\n",
       "17   2020/5/1   77672.000000     -13.6\n",
       "18   2020/6/1   96176.000000     -10.8\n",
       "19   2020/7/1  114725.000000      -8.7\n",
       "20   2020/8/1  126768.000000      -7.5\n",
       "21   2020/9/1  141002.000000      -6.4\n",
       "22  2020/10/1  158533.000000      -5.5\n",
       "23  2020/11/1  169489.000000      -5.3\n",
       "24  2020/12/1  182895.000000      -3.9\n",
       "25   2021/1/1  118868.251515       NaN\n",
       "26   2021/2/1   41805.400000      18.7\n",
       "27   2021/3/1   57115.000000      24.2\n",
       "28   2021/4/1   78008.000000      25.5\n",
       "29   2021/5/1   96454.000000      24.2\n",
       "30   2021/6/1  117116.000000      21.8\n",
       "31   2021/7/1  137716.000000      20.0\n",
       "32   2021/8/1  150088.000000      18.4\n",
       "33   2021/9/1  164020.000000      16.3\n",
       "34  2021/10/1  181526.000000      14.5\n",
       "35  2021/11/1  191252.000000      12.8"
      ]
     },
     "execution_count": 7,
     "metadata": {},
     "output_type": "execute_result"
    }
   ],
   "source": [
    "df.head(36)"
   ]
  },
  {
   "cell_type": "markdown",
   "id": "2cf349b8",
   "metadata": {},
   "source": [
    "## Plot the time series"
   ]
  },
  {
   "cell_type": "code",
   "execution_count": 8,
   "id": "6cff970d",
   "metadata": {},
   "outputs": [
    {
     "data": {
      "image/png": "[encoded data removed]",
      "text/plain": [
       "<Figure size 432x288 with 1 Axes>"
      ]
     },
     "metadata": {
      "needs_background": "light"
     },
     "output_type": "display_data"
    }
   ],
   "source": [
    "plt.plot(data['Year'],data['Incomes'])\n",
    "\n",
    "plt.show()\n"
   ]
  },
  {
   "cell_type": "markdown",
   "id": "e4a30da0",
   "metadata": {},
   "source": [
    "## Calculate the autocorrelation coefficients"
   ]
  },
  {
   "attachments": {
    "image-2.png": {
     "image/png": "[encoded data removed]"
    }
   },
   "cell_type": "markdown",
   "id": "d2e0f11a",
   "metadata": {},
   "source": [
    "![image-2.png](attachment:image-2.png)"
   ]
  },
  {
   "cell_type": "code",
   "execution_count": 35,
   "id": "2697f870",
   "metadata": {},
   "outputs": [],
   "source": [
    "def getAutocor(timeSeries,h): #求acf\n",
    "    #h is a Lag number\n",
    "    l = len(timeSeries)\n",
    "    \n",
    "    tS_mean = timeSeries.mean()\n",
    "    tS_var = np.array([i**2 for i in [timeSeries-tS_mean]]).sum()\n",
    "    autocor = 0\n",
    "    for i in range(l-h):\n",
    "        autocor = autocor + (timeSeries.loc[i]-tS_mean)*(timeSeries.loc[i+h]-tS_mean)/tS_var\n",
    "#     autocor = pd.DataFrame(autocor，columns = ['result'])\n",
    "#     return 'The autocorrelation coefficients is: {}'.format(autocor[0,0])\n",
    "    return autocor\n",
    "# type(autocor)\n",
    "def cgetAutocor(timeSeries):#循环求acf\n",
    "    l = len(timeSeries)\n",
    "    a = []\n",
    "    for i in range(l):\n",
    "        a.append(getAutocor(timeSeries,i))\n",
    "    return a"
   ]
  },
  {
   "cell_type": "code",
   "execution_count": 27,
   "id": "81cd5dfb",
   "metadata": {},
   "outputs": [
    {
     "data": {
      "text/plain": [
       "0   -0.097297\n",
       "dtype: float64"
      ]
     },
     "execution_count": 27,
     "metadata": {},
     "output_type": "execute_result"
    }
   ],
   "source": [
    "#Test\n",
    "a = [2,3,4,3,7]\n",
    "af = pd.DataFrame(a)\n",
    "getAutocor(af,1)"
   ]
  },
  {
   "cell_type": "code",
   "execution_count": 36,
   "id": "8438f0af",
   "metadata": {},
   "outputs": [
    {
     "data": {
      "text/plain": [
       "[0    1.0\n",
       " dtype: float64,\n",
       " 0   -0.097297\n",
       " dtype: float64,\n",
       " 0    0.062162\n",
       " dtype: float64,\n",
       " 0   -0.075676\n",
       " dtype: float64,\n",
       " 0   -0.389189\n",
       " dtype: float64]"
      ]
     },
     "execution_count": 36,
     "metadata": {},
     "output_type": "execute_result"
    }
   ],
   "source": [
    "cgetAutocor(af)"
   ]
  },
  {
   "cell_type": "code",
   "execution_count": 38,
   "id": "ca93ec09",
   "metadata": {},
   "outputs": [
    {
     "data": {
      "text/plain": [
       "array([ 1.        , -0.12162162,  0.1036036 , -0.18918919, -1.94594595])"
      ]
     },
     "execution_count": 38,
     "metadata": {},
     "output_type": "execute_result"
    }
   ],
   "source": [
    "from statsmodels.tsa.stattools import acf\n",
    "acf(af,2)"
   ]
  },
  {
   "cell_type": "code",
   "execution_count": 12,
   "id": "bc441a88",
   "metadata": {
    "scrolled": true
   },
   "outputs": [
    {
     "data": {
      "text/html": [
       "<div>\n",
       "<style scoped>\n",
       "    .dataframe tbody tr th:only-of-type {\n",
       "        vertical-align: middle;\n",
       "    }\n",
       "\n",
       "    .dataframe tbody tr th {\n",
       "        vertical-align: top;\n",
       "    }\n",
       "\n",
       "    .dataframe thead th {\n",
       "        text-align: right;\n",
       "    }\n",
       "</style>\n",
       "<table border=\"1\" class=\"dataframe\">\n",
       "  <thead>\n",
       "    <tr style=\"text-align: right;\">\n",
       "      <th></th>\n",
       "      <th>Year</th>\n",
       "      <th>Incomes</th>\n",
       "      <th>Rates(%)</th>\n",
       "    </tr>\n",
       "  </thead>\n",
       "  <tbody>\n",
       "    <tr>\n",
       "      <th>0</th>\n",
       "      <td>2018/12/1</td>\n",
       "      <td>183352.000000</td>\n",
       "      <td>6.2</td>\n",
       "    </tr>\n",
       "    <tr>\n",
       "      <th>1</th>\n",
       "      <td>2019/1/1</td>\n",
       "      <td>118868.251515</td>\n",
       "      <td>NaN</td>\n",
       "    </tr>\n",
       "    <tr>\n",
       "      <th>2</th>\n",
       "      <td>2019/2/1</td>\n",
       "      <td>39104.000000</td>\n",
       "      <td>7.0</td>\n",
       "    </tr>\n",
       "    <tr>\n",
       "      <th>3</th>\n",
       "      <td>2019/3/1</td>\n",
       "      <td>53656.000000</td>\n",
       "      <td>6.2</td>\n",
       "    </tr>\n",
       "    <tr>\n",
       "      <th>4</th>\n",
       "      <td>2019/4/1</td>\n",
       "      <td>72651.000000</td>\n",
       "      <td>5.3</td>\n",
       "    </tr>\n",
       "  </tbody>\n",
       "</table>\n",
       "</div>"
      ],
      "text/plain": [
       "        Year        Incomes  Rates(%)\n",
       "0  2018/12/1  183352.000000       6.2\n",
       "1   2019/1/1  118868.251515       NaN\n",
       "2   2019/2/1   39104.000000       7.0\n",
       "3   2019/3/1   53656.000000       6.2\n",
       "4   2019/4/1   72651.000000       5.3"
      ]
     },
     "execution_count": 12,
     "metadata": {},
     "output_type": "execute_result"
    }
   ],
   "source": [
    "df.head()"
   ]
  },
  {
   "cell_type": "code",
   "execution_count": 40,
   "id": "95027a12",
   "metadata": {},
   "outputs": [
    {
     "name": "stdout",
     "output_type": "stream",
     "text": [
      "if h = 0\n",
      "1.0\n",
      "if h = 1\n",
      "0.697030389294245\n",
      "if h = 2\n",
      "0.23653660036813318\n",
      "if h = 3\n",
      "-0.08449317637131298\n",
      "if h = 4\n",
      "-0.3229815262834112\n",
      "if h = 5\n",
      "-0.4691906169766378\n",
      "if h = 6\n",
      "-0.5163105003523519\n",
      "if h = 7\n",
      "-0.4780998830541755\n",
      "if h = 8\n",
      "-0.3504968599531127\n",
      "if h = 9\n",
      "-0.10950695355117168\n",
      "if h = 10\n",
      "0.22483911010101257\n",
      "if h = 11\n",
      "0.5365292630465051\n",
      "if h = 12\n",
      "0.6393242743841763\n",
      "if h = 13\n",
      "0.4141723341620668\n",
      "if h = 14\n",
      "0.10535669784862445\n",
      "if h = 15\n",
      "-0.08728758104454523\n",
      "if h = 16\n",
      "-0.2272476735066662\n",
      "if h = 17\n",
      "-0.3109278362212969\n",
      "if h = 18\n",
      "-0.3295244749223498\n",
      "if h = 19\n",
      "-0.2956537864081012\n",
      "[1.0, 0.697030389294245, 0.23653660036813318, -0.08449317637131298, -0.3229815262834112, -0.4691906169766378, -0.5163105003523519, -0.4780998830541755, -0.3504968599531127, -0.10950695355117168, 0.22483911010101257, 0.5365292630465051, 0.6393242743841763, 0.4141723341620668, 0.10535669784862445, -0.08728758104454523, -0.2272476735066662, -0.3109278362212969, -0.3295244749223498, -0.2956537864081012]\n"
     ]
    }
   ],
   "source": [
    "Autocors = []\n",
    "for i in range(20):\n",
    "    print('if h = {}'.format(i))\n",
    "    print(getAutocor(df['Incomes'],i))\n",
    "    a = getAutocor(df['Incomes'],i)\n",
    "    Autocors.append(a)\n",
    "print(Autocors)\n",
    "# type(df['Income(100 million yuan)'])"
   ]
  },
  {
   "cell_type": "code",
   "execution_count": 52,
   "id": "a2b7053e",
   "metadata": {},
   "outputs": [
    {
     "data": {
      "text/plain": [
       "array([ 1.        ,  0.69703039,  0.2365366 , -0.08449318, -0.32298153,\n",
       "       -0.46919062, -0.5163105 , -0.47809988, -0.35049686, -0.10950695,\n",
       "        0.22483911,  0.53652926,  0.63932427,  0.41417233,  0.1053567 ,\n",
       "       -0.08728758, -0.22724767, -0.31092784, -0.32952447, -0.29565379,\n",
       "       -0.21106778, -0.05704602,  0.15221133,  0.30778245,  0.32444673,\n",
       "        0.18470157,  0.03306081, -0.03210454, -0.08204107, -0.11899849,\n",
       "       -0.12951592, -0.1206501 , -0.09468833, -0.03517276,  0.04965346,\n",
       "        0.05736088])"
      ]
     },
     "execution_count": 52,
     "metadata": {},
     "output_type": "execute_result"
    }
   ],
   "source": [
    "acf(df['Incomes'])"
   ]
  },
  {
   "cell_type": "markdown",
   "id": "3f451593",
   "metadata": {},
   "source": [
    "## Plot ACF and PACF"
   ]
  },
  {
   "cell_type": "code",
   "execution_count": 21,
   "id": "97c8d315",
   "metadata": {},
   "outputs": [
    {
     "name": "stderr",
     "output_type": "stream",
     "text": [
      "D:\\Dev\\Anaconda\\envs\\snakes\\lib\\site-packages\\statsmodels\\regression\\linear_model.py:1434: RuntimeWarning: invalid value encountered in sqrt\n",
      "  return rho, np.sqrt(sigmasq)\n"
     ]
    },
    {
     "data": {
      "image/png": "[encoded data removed]",
      "text/plain": [
       "<Figure size 432x288 with 1 Axes>"
      ]
     },
     "execution_count": 21,
     "metadata": {},
     "output_type": "execute_result"
    },
    {
     "data": {
      "image/png": "[encoded data removed]",
      "text/plain": [
       "<Figure size 432x288 with 1 Axes>"
      ]
     },
     "metadata": {
      "needs_background": "light"
     },
     "output_type": "display_data"
    },
    {
     "data": {
      "image/png": "[encoded data removed]",
      "text/plain": [
       "<Figure size 432x288 with 1 Axes>"
      ]
     },
     "metadata": {
      "needs_background": "light"
     },
     "output_type": "display_data"
    }
   ],
   "source": [
    "from statsmodels.graphics.tsaplots import plot_acf, plot_pacf\n",
    "plot_acf(df['Incomes'])\n",
    "plot_pacf(df['Incomes'])`"
   ]
  },
  {
   "cell_type": "markdown",
   "id": "f27671fa",
   "metadata": {},
   "source": [
    "## How do you think if the considered time series is stationary?"
   ]
  },
  {
   "cell_type": "markdown",
   "id": "2e3235c6",
   "metadata": {},
   "source": [
    "根据时序图，很明显可以看到，这个时间序列是平稳的。ACF是拖尾，PACF"
   ]
  },
  {
   "cell_type": "markdown",
   "id": "0c82a5c3",
   "metadata": {},
   "source": [
    "# Step 2：Determine an order of difference of the time series. To do this, build correlograms for the original series and the series in the first and second differences. Check the difference for the presence of a unit root using the Advanced Dickey-Fuller test (ADF-test). What is the order d of stationarity?"
   ]
  },
  {
   "cell_type": "markdown",
   "id": "f9265807",
   "metadata": {},
   "source": [
    "确定时间序列的差序。为此，请为原始系列以及一阶和二阶差异中的系列构建相关图。使用高级 Dickey-Fuller 检验（ADF 检验）检查是否存在单位根的差异。平稳的阶数 d 是多少？"
   ]
  },
  {
   "cell_type": "markdown",
   "id": "ebc0f532",
   "metadata": {},
   "source": [
    "# 笔记：第一问中，我找的数据是平稳的，不合适，应该找一个不平稳的数据，然后通过差分，使其平稳，最后在这一步中求得差分阶数。"
   ]
  },
  {
   "cell_type": "code",
   "execution_count": 56,
   "id": "71805c99",
   "metadata": {},
   "outputs": [
    {
     "data": {
      "text/html": [
       "<div>\n",
       "<style scoped>\n",
       "    .dataframe tbody tr th:only-of-type {\n",
       "        vertical-align: middle;\n",
       "    }\n",
       "\n",
       "    .dataframe tbody tr th {\n",
       "        vertical-align: top;\n",
       "    }\n",
       "\n",
       "    .dataframe thead th {\n",
       "        text-align: right;\n",
       "    }\n",
       "</style>\n",
       "<table border=\"1\" class=\"dataframe\">\n",
       "  <thead>\n",
       "    <tr style=\"text-align: right;\">\n",
       "      <th></th>\n",
       "      <th>Year</th>\n",
       "      <th>Incomes</th>\n",
       "      <th>Rates(%)</th>\n",
       "    </tr>\n",
       "  </thead>\n",
       "  <tbody>\n",
       "    <tr>\n",
       "      <th>0</th>\n",
       "      <td>2018/12/1</td>\n",
       "      <td>183352.000000</td>\n",
       "      <td>6.2</td>\n",
       "    </tr>\n",
       "    <tr>\n",
       "      <th>1</th>\n",
       "      <td>2019/1/1</td>\n",
       "      <td>118868.251515</td>\n",
       "      <td>NaN</td>\n",
       "    </tr>\n",
       "    <tr>\n",
       "      <th>2</th>\n",
       "      <td>2019/2/1</td>\n",
       "      <td>39104.000000</td>\n",
       "      <td>7.0</td>\n",
       "    </tr>\n",
       "    <tr>\n",
       "      <th>3</th>\n",
       "      <td>2019/3/1</td>\n",
       "      <td>53656.000000</td>\n",
       "      <td>6.2</td>\n",
       "    </tr>\n",
       "    <tr>\n",
       "      <th>4</th>\n",
       "      <td>2019/4/1</td>\n",
       "      <td>72651.000000</td>\n",
       "      <td>5.3</td>\n",
       "    </tr>\n",
       "  </tbody>\n",
       "</table>\n",
       "</div>"
      ],
      "text/plain": [
       "        Year        Incomes  Rates(%)\n",
       "0  2018/12/1  183352.000000       6.2\n",
       "1   2019/1/1  118868.251515       NaN\n",
       "2   2019/2/1   39104.000000       7.0\n",
       "3   2019/3/1   53656.000000       6.2\n",
       "4   2019/4/1   72651.000000       5.3"
      ]
     },
     "execution_count": 56,
     "metadata": {},
     "output_type": "execute_result"
    }
   ],
   "source": [
    "df.head()"
   ]
  },
  {
   "cell_type": "code",
   "execution_count": 61,
   "id": "09a9f3c0",
   "metadata": {},
   "outputs": [
    {
     "data": {
      "image/png": "[encoded data removed]",
      "text/plain": [
       "<Figure size 432x288 with 1 Axes>"
      ]
     },
     "execution_count": 61,
     "metadata": {},
     "output_type": "execute_result"
    },
    {
     "data": {
      "image/png": "[encoded data removed]",
      "text/plain": [
       "<Figure size 432x288 with 1 Axes>"
      ]
     },
     "metadata": {
      "needs_background": "light"
     },
     "output_type": "display_data"
    }
   ],
   "source": [
    "plot_acf(np.log(df['Incomes']))"
   ]
  },
  {
   "cell_type": "code",
   "execution_count": 63,
   "id": "16d6a7b1",
   "metadata": {},
   "outputs": [
    {
     "data": {
      "image/png": "[encoded data removed]",
      "text/plain": [
       "<Figure size 432x288 with 1 Axes>"
      ]
     },
     "execution_count": 63,
     "metadata": {},
     "output_type": "execute_result"
    },
    {
     "data": {
      "image/png": "[encoded data removed]",
      "text/plain": [
       "<Figure size 432x288 with 1 Axes>"
      ]
     },
     "metadata": {
      "needs_background": "light"
     },
     "output_type": "display_data"
    }
   ],
   "source": [
    "plot_acf(df['Incomes'])"
   ]
  },
  {
   "cell_type": "code",
   "execution_count": 70,
   "id": "c0dfa5ab",
   "metadata": {},
   "outputs": [
    {
     "name": "stderr",
     "output_type": "stream",
     "text": [
      "D:\\Dev\\Anaconda\\envs\\snakes\\lib\\site-packages\\statsmodels\\tsa\\stattools.py:662: FutureWarning: The default number of lags is changing from 40 tomin(int(10 * np.log10(nobs)), nobs - 1) after 0.12is released. Set the number of lags to an integer to  silence this warning.\n",
      "  FutureWarning,\n",
      "D:\\Dev\\Anaconda\\envs\\snakes\\lib\\site-packages\\statsmodels\\tsa\\stattools.py:671: FutureWarning: fft=True will become the default after the release of the 0.12 release of statsmodels. To suppress this warning, explicitly set fft=False.\n",
      "  FutureWarning,\n",
      "D:\\Dev\\Anaconda\\envs\\snakes\\lib\\site-packages\\statsmodels\\tsa\\stattools.py:662: FutureWarning: The default number of lags is changing from 40 tomin(int(10 * np.log10(nobs)), nobs - 1) after 0.12is released. Set the number of lags to an integer to  silence this warning.\n",
      "  FutureWarning,\n",
      "D:\\Dev\\Anaconda\\envs\\snakes\\lib\\site-packages\\statsmodels\\tsa\\stattools.py:671: FutureWarning: fft=True will become the default after the release of the 0.12 release of statsmodels. To suppress this warning, explicitly set fft=False.\n",
      "  FutureWarning,\n"
     ]
    },
    {
     "data": {
      "image/png": "[encoded data removed]",
      "text/plain": [
       "<Figure size 432x288 with 1 Axes>"
      ]
     },
     "execution_count": 70,
     "metadata": {},
     "output_type": "execute_result"
    },
    {
     "data": {
      "image/png": "[encoded data removed]",
      "text/plain": [
       "<Figure size 432x288 with 1 Axes>"
      ]
     },
     "metadata": {
      "needs_background": "light"
     },
     "output_type": "display_data"
    },
    {
     "data": {
      "image/png": "[encoded data removed]",
      "text/plain": [
       "<Figure size 432x288 with 1 Axes>"
      ]
     },
     "metadata": {
      "needs_background": "light"
     },
     "output_type": "display_data"
    }
   ],
   "source": [
    "plot_acf(acf(df['Incomes'],1),title = 1)\n",
    "plot_acf(acf(df['Incomes'],2),title = 2)"
   ]
  }
 ],
 "metadata": {
  "kernelspec": {
   "display_name": "Python 3",
   "language": "python",
   "name": "python3"
  },
  "language_info": {
   "codemirror_mode": {
    "name": "ipython",
    "version": 3
   },
   "file_extension": ".py",
   "mimetype": "text/x-python",
   "name": "python",
   "nbconvert_exporter": "python",
   "pygments_lexer": "ipython3",
   "version": "3.6.13"
  }
 },
 "nbformat": 4,
 "nbformat_minor": 5
}
