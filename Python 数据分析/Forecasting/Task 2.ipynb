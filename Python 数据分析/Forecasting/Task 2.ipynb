{
 "cells": [
  {
   "cell_type": "markdown",
   "id": "a12c33c3",
   "metadata": {},
   "source": [
    "1. Select an indicator measured in time on a monthly basis or quarterly that can have seasonal fluctuations and construct a time series. \n",
    "2. Analyze a time series, observe how the indicator varies in time. Construct its autocorrelation function ACF and partial autocorrelation function PACF.\n",
    "3. Check the availability of the seasonal component and determine the length of seasonality (for this purpose it is necessary to evaluate the significance of autocorrelation coefficients). Which behavior it has (constant, changing in time)?.\n",
    "4. Conduct a classical decomposition (additive or multiplicative) of the time series. Draw a trend and seasonal components on the graph. Describe their features. \n",
    "5. Analyze the errors of the constructed model. Construct histograms and other useful graphs. Carry out a test for the normal distribution of errors.\n",
    "6. Construct two models any other type of the model. Check the availability of the seasonal component and determine the length of seasonality (for this purpose it is necessary to evaluate the significance of autocorrelation coefficients).\n",
    "7. Choose the best model. Draw the initial and model values on the graph. Assess the quality of the model based on well-known criteria.\n",
    "8. Using the btst model create a forecast and a prediction interval for 2 years ahead"
   ]
  },
  {
   "cell_type": "markdown",
   "id": "dc2b9231",
   "metadata": {},
   "source": [
    "1. 选择一个按月或按季时间衡量的可能有季节性波动的指标，并构建一个时间序列。\n",
    "2. 分析一个时间序列，观察指标如何随时间变化。构造其自相关函数ACF和偏自相关函数PACF。\n",
    "3. 检查季节性成分的可用性并确定季节性的长度（为此需要评估自相关系数的显着性）。它有哪些行为（恒定的，随时间变化）？。\n",
    "4. 对时间序列进行经典分解（加法或乘法）。在图表上绘制趋势和季节性成分。描述他们的特点。\n",
    "5. 分析构建模型的误差。构建直方图和其他有用的图形。对错误的正态分布进行检验。\n",
    "6. 构建两个模型的任何其他类型的模型。检查季节性分量的可用性并确定季节性的长度（为此，有必要评估自相关系数的显着性）。\n",
    "7. 选择最佳模型。在图形上绘制初始值和模型值。根据众所周知的标准评估模型的质量。\n",
    "8. 使用 btst 模型创建未来 2 年的预测和预测区间"
   ]
  }
 ],
 "metadata": {
  "kernelspec": {
   "display_name": "Python 3",
   "language": "python",
   "name": "python3"
  },
  "language_info": {
   "codemirror_mode": {
    "name": "ipython",
    "version": 3
   },
   "file_extension": ".py",
   "mimetype": "text/x-python",
   "name": "python",
   "nbconvert_exporter": "python",
   "pygments_lexer": "ipython3",
   "version": "3.6.13"
  }
 },
 "nbformat": 4,
 "nbformat_minor": 5
}
